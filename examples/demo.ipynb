{
 "cells": [
  {
   "cell_type": "markdown",
   "metadata": {},
   "source": [
    "# Example of usage in Jupyter notebook"
   ]
  },
  {
   "cell_type": "markdown",
   "metadata": {},
   "source": [
    "## Usual imports for pandas/numpy/matplotlib"
   ]
  },
  {
   "cell_type": "code",
   "execution_count": 1,
   "metadata": {},
   "outputs": [],
   "source": [
    "import pandas as pd\n",
    "import numpy as np\n",
    "import matplotlib.pyplot as plt\n",
    "%matplotlib inline"
   ]
  },
  {
   "cell_type": "markdown",
   "metadata": {},
   "source": [
    "## Imports and environment set up for API"
   ]
  },
  {
   "cell_type": "code",
   "execution_count": 2,
   "metadata": {},
   "outputs": [],
   "source": [
    "from ethereum_stats import levelDB, statedataset, blockrange\n",
    "from eth_utils import decode_hex\n",
    "import logging\n",
    "import time\n",
    "\n",
    "LOGGING_LEVEL = logging.WARNING\n",
    "logging.basicConfig(level=LOGGING_LEVEL)\n",
    "\n",
    "DB_DIR = '/home/ethereum/eth-rinkeby/geth/chaindata'\n",
    "db = levelDB.LevelDB(DB_DIR)"
   ]
  },
  {
   "cell_type": "markdown",
   "metadata": {},
   "source": [
    "## Get the last block header and its state"
   ]
  },
  {
   "cell_type": "code",
   "execution_count": 3,
   "metadata": {},
   "outputs": [],
   "source": [
    "last_block = blockrange.BlockHeader.get_latest_block_header(db)\n",
    "state = statedataset.StateDataset(db, decode_hex(last_block.state_root))\n",
    "df = state.to_panda_dataframe()\n"
   ]
  },
  {
   "cell_type": "code",
   "execution_count": 4,
   "metadata": {},
   "outputs": [
    {
     "data": {
      "text/html": [
       "<div>\n",
       "<style scoped>\n",
       "    .dataframe tbody tr th:only-of-type {\n",
       "        vertical-align: middle;\n",
       "    }\n",
       "\n",
       "    .dataframe tbody tr th {\n",
       "        vertical-align: top;\n",
       "    }\n",
       "\n",
       "    .dataframe thead th {\n",
       "        text-align: right;\n",
       "    }\n",
       "</style>\n",
       "<table border=\"1\" class=\"dataframe\">\n",
       "  <thead>\n",
       "    <tr style=\"text-align: right;\">\n",
       "      <th></th>\n",
       "      <th>nonce</th>\n",
       "      <th>balance</th>\n",
       "      <th>code_size</th>\n",
       "      <th>storage_size</th>\n",
       "    </tr>\n",
       "  </thead>\n",
       "  <tbody>\n",
       "    <tr>\n",
       "      <th>count</th>\n",
       "      <td>697779.000000</td>\n",
       "      <td>6.977790e+05</td>\n",
       "      <td>697779.000000</td>\n",
       "      <td>697779.000000</td>\n",
       "    </tr>\n",
       "    <tr>\n",
       "      <th>mean</th>\n",
       "      <td>4.742788</td>\n",
       "      <td>1.296436e+69</td>\n",
       "      <td>962.792269</td>\n",
       "      <td>3.699901</td>\n",
       "    </tr>\n",
       "    <tr>\n",
       "      <th>std</th>\n",
       "      <td>501.292151</td>\n",
       "      <td>1.082954e+72</td>\n",
       "      <td>2835.491628</td>\n",
       "      <td>151.992746</td>\n",
       "    </tr>\n",
       "    <tr>\n",
       "      <th>min</th>\n",
       "      <td>0.000000</td>\n",
       "      <td>0.000000e+00</td>\n",
       "      <td>0.000000</td>\n",
       "      <td>0.000000</td>\n",
       "    </tr>\n",
       "    <tr>\n",
       "      <th>25%</th>\n",
       "      <td>1.000000</td>\n",
       "      <td>0.000000e+00</td>\n",
       "      <td>1.000000</td>\n",
       "      <td>0.000000</td>\n",
       "    </tr>\n",
       "    <tr>\n",
       "      <th>50%</th>\n",
       "      <td>1.000000</td>\n",
       "      <td>0.000000e+00</td>\n",
       "      <td>10.000000</td>\n",
       "      <td>0.000000</td>\n",
       "    </tr>\n",
       "    <tr>\n",
       "      <th>75%</th>\n",
       "      <td>1.000000</td>\n",
       "      <td>1.000000e+00</td>\n",
       "      <td>319.000000</td>\n",
       "      <td>0.000000</td>\n",
       "    </tr>\n",
       "    <tr>\n",
       "      <th>max</th>\n",
       "      <td>270346.000000</td>\n",
       "      <td>9.046257e+74</td>\n",
       "      <td>24576.000000</td>\n",
       "      <td>51322.000000</td>\n",
       "    </tr>\n",
       "  </tbody>\n",
       "</table>\n",
       "</div>"
      ],
      "text/plain": [
       "               nonce       balance      code_size   storage_size\n",
       "count  697779.000000  6.977790e+05  697779.000000  697779.000000\n",
       "mean        4.742788  1.296436e+69     962.792269       3.699901\n",
       "std       501.292151  1.082954e+72    2835.491628     151.992746\n",
       "min         0.000000  0.000000e+00       0.000000       0.000000\n",
       "25%         1.000000  0.000000e+00       1.000000       0.000000\n",
       "50%         1.000000  0.000000e+00      10.000000       0.000000\n",
       "75%         1.000000  1.000000e+00     319.000000       0.000000\n",
       "max    270346.000000  9.046257e+74   24576.000000   51322.000000"
      ]
     },
     "execution_count": 4,
     "metadata": {},
     "output_type": "execute_result"
    }
   ],
   "source": [
    "df.describe()\n"
   ]
  },
  {
   "cell_type": "code",
   "execution_count": 50,
   "metadata": {},
   "outputs": [
    {
     "data": {
      "text/plain": [
       "<matplotlib.axes._subplots.AxesSubplot at 0x7f0c723c1080>"
      ]
     },
     "execution_count": 50,
     "metadata": {},
     "output_type": "execute_result"
    },
    {
     "data": {
      "image/png": "[encoded data removed]",
      "text/plain": [
       "<matplotlib.figure.Figure at 0x7f0c723f86d8>"
      ]
     },
     "metadata": {},
     "output_type": "display_data"
    }
   ],
   "source": [
    "df[df.nonce>10000]['nonce'].plot.hist()\n",
    "\n"
   ]
  },
  {
   "cell_type": "code",
   "execution_count": 46,
   "metadata": {},
   "outputs": [
    {
     "data": {
      "text/html": [
       "<div>\n",
       "<style scoped>\n",
       "    .dataframe tbody tr th:only-of-type {\n",
       "        vertical-align: middle;\n",
       "    }\n",
       "\n",
       "    .dataframe tbody tr th {\n",
       "        vertical-align: top;\n",
       "    }\n",
       "\n",
       "    .dataframe thead th {\n",
       "        text-align: right;\n",
       "    }\n",
       "</style>\n",
       "<table border=\"1\" class=\"dataframe\">\n",
       "  <thead>\n",
       "    <tr style=\"text-align: right;\">\n",
       "      <th></th>\n",
       "      <th>nonce</th>\n",
       "      <th>balance</th>\n",
       "      <th>code_size</th>\n",
       "      <th>storage_size</th>\n",
       "    </tr>\n",
       "  </thead>\n",
       "  <tbody>\n",
       "    <tr>\n",
       "      <th>count</th>\n",
       "      <td>568836.000000</td>\n",
       "      <td>5.688360e+05</td>\n",
       "      <td>568836.000000</td>\n",
       "      <td>568836.000000</td>\n",
       "    </tr>\n",
       "    <tr>\n",
       "      <th>mean</th>\n",
       "      <td>1.772488</td>\n",
       "      <td>3.436129e+16</td>\n",
       "      <td>1181.036761</td>\n",
       "      <td>4.538589</td>\n",
       "    </tr>\n",
       "    <tr>\n",
       "      <th>std</th>\n",
       "      <td>358.814161</td>\n",
       "      <td>1.728200e+18</td>\n",
       "      <td>3099.154777</td>\n",
       "      <td>168.329089</td>\n",
       "    </tr>\n",
       "    <tr>\n",
       "      <th>min</th>\n",
       "      <td>1.000000</td>\n",
       "      <td>0.000000e+00</td>\n",
       "      <td>1.000000</td>\n",
       "      <td>0.000000</td>\n",
       "    </tr>\n",
       "    <tr>\n",
       "      <th>25%</th>\n",
       "      <td>1.000000</td>\n",
       "      <td>0.000000e+00</td>\n",
       "      <td>10.000000</td>\n",
       "      <td>0.000000</td>\n",
       "    </tr>\n",
       "    <tr>\n",
       "      <th>50%</th>\n",
       "      <td>1.000000</td>\n",
       "      <td>0.000000e+00</td>\n",
       "      <td>10.000000</td>\n",
       "      <td>0.000000</td>\n",
       "    </tr>\n",
       "    <tr>\n",
       "      <th>75%</th>\n",
       "      <td>1.000000</td>\n",
       "      <td>0.000000e+00</td>\n",
       "      <td>731.000000</td>\n",
       "      <td>1.000000</td>\n",
       "    </tr>\n",
       "    <tr>\n",
       "      <th>max</th>\n",
       "      <td>270346.000000</td>\n",
       "      <td>8.515625e+20</td>\n",
       "      <td>24576.000000</td>\n",
       "      <td>51322.000000</td>\n",
       "    </tr>\n",
       "  </tbody>\n",
       "</table>\n",
       "</div>"
      ],
      "text/plain": [
       "               nonce       balance      code_size   storage_size\n",
       "count  568836.000000  5.688360e+05  568836.000000  568836.000000\n",
       "mean        1.772488  3.436129e+16    1181.036761       4.538589\n",
       "std       358.814161  1.728200e+18    3099.154777     168.329089\n",
       "min         1.000000  0.000000e+00       1.000000       0.000000\n",
       "25%         1.000000  0.000000e+00      10.000000       0.000000\n",
       "50%         1.000000  0.000000e+00      10.000000       0.000000\n",
       "75%         1.000000  0.000000e+00     731.000000       1.000000\n",
       "max    270346.000000  8.515625e+20   24576.000000   51322.000000"
      ]
     },
     "execution_count": 46,
     "metadata": {},
     "output_type": "execute_result"
    }
   ],
   "source": [
    "df[df.is_contract==True].describe()\n"
   ]
  },
  {
   "cell_type": "code",
   "execution_count": 57,
   "metadata": {},
   "outputs": [
    {
     "data": {
      "text/plain": [
       "<matplotlib.axes._subplots.AxesSubplot at 0x7f0c70887ba8>"
      ]
     },
     "execution_count": 57,
     "metadata": {},
     "output_type": "execute_result"
    },
    {
     "data": {
      "image/png": "[encoded data removed]",
      "text/plain": [
       "<matplotlib.figure.Figure at 0x7f0c707c19b0>"
      ]
     },
     "metadata": {},
     "output_type": "display_data"
    }
   ],
   "source": [
    "s = df[df.is_contract==True].reset_index().storage_size\n",
    "\n",
    "s.plot.hist()"
   ]
  },
  {
   "cell_type": "code",
   "execution_count": 85,
   "metadata": {},
   "outputs": [
    {
     "data": {
      "text/plain": [
       "<matplotlib.axes._subplots.AxesSubplot at 0x7f0c703c66a0>"
      ]
     },
     "execution_count": 85,
     "metadata": {},
     "output_type": "execute_result"
    },
    {
     "data": {
      "image/png": "[encoded data removed]",
      "text/plain": [
       "<matplotlib.figure.Figure at 0x7f0c7041b7b8>"
      ]
     },
     "metadata": {},
     "output_type": "display_data"
    }
   ],
   "source": [
    "aRange = blockrange.BlockRange.date_range(db, '1/1/2018', '7/1/2018')\n",
    "s = pd.Series(np.zeros(aRange.upper_blk_nbr - aRange.lower_blk_nbr + 1))\n",
    "i = 0\n",
    "for blk in aRange:\n",
    "    s[i] = blk.gas_used\n",
    "    i = i + 1 \n",
    "s.plot()"
   ]
  },
  {
   "cell_type": "code",
   "execution_count": 86,
   "metadata": {},
   "outputs": [
    {
     "data": {
      "text/plain": [
       "<matplotlib.axes._subplots.AxesSubplot at 0x7f0c70393ba8>"
      ]
     },
     "execution_count": 86,
     "metadata": {},
     "output_type": "execute_result"
    },
    {
     "data": {
      "image/png": "[encoded data removed]",
      "text/plain": [
       "<matplotlib.figure.Figure at 0x7f0c703ff908>"
      ]
     },
     "metadata": {},
     "output_type": "display_data"
    }
   ],
   "source": [
    "s.plot.hist()"
   ]
  },
  {
   "cell_type": "code",
   "execution_count": 64,
   "metadata": {},
   "outputs": [
    {
     "data": {
      "text/plain": [
       "'0x7a10df710851ec8e6de03bc988eb997d52c4d68e'"
      ]
     },
     "execution_count": 64,
     "metadata": {},
     "output_type": "execute_result"
    }
   ],
   "source": [
    "df.nonce.idxmax()"
   ]
  },
  {
   "cell_type": "code",
   "execution_count": 68,
   "metadata": {},
   "outputs": [
    {
     "data": {
      "text/plain": [
       "account         0x7a10df710851ec8e6de03bc988eb997d52c4d68e\n",
       "nonce                                               270346\n",
       "balance                                                  0\n",
       "is_contract                                           True\n",
       "code_size                                              811\n",
       "storage_size                                          3612\n",
       "key_in_db                                            False\n",
       "Name: 0x7a10df710851ec8e6de03bc988eb997d52c4d68e, dtype: object"
      ]
     },
     "execution_count": 68,
     "metadata": {},
     "output_type": "execute_result"
    }
   ],
   "source": [
    "df.loc[df.nonce.idxmax()]"
   ]
  },
  {
   "cell_type": "code",
   "execution_count": 82,
   "metadata": {},
   "outputs": [
    {
     "data": {
      "text/plain": [
       "<matplotlib.axes._subplots.AxesSubplot at 0x7f0c70491fd0>"
      ]
     },
     "execution_count": 82,
     "metadata": {},
     "output_type": "execute_result"
    },
    {
     "data": {
      "image/png": "[encoded data removed]",
      "text/plain": [
       "<matplotlib.figure.Figure at 0x7f0c704919e8>"
      ]
     },
     "metadata": {},
     "output_type": "display_data"
    }
   ],
   "source": [
    "factor = 10 ** 18\n",
    "accAddress = df.loc[df[df.key_in_db==True].nonce.idxmax()].account\n",
    "aRange= blockrange.BlockRange.date_range(db, '7/1/2018 15:30:00', '7/1/2018 18:00:00')\n",
    "s = pd.Series(np.zeros(aRange.upper_blk_nbr - aRange.lower_blk_nbr + 1))\n",
    "i = 0\n",
    "for blk in aRange:\n",
    "    st = statedataset.StateDataset(db, decode_hex(blk.state_root))\n",
    "    acc = st.get_account(accAddress)\n",
    "    s[i] = acc.balance / factor\n",
    "    i = i + 1 \n",
    "s.plot()"
   ]
  },
  {
   "cell_type": "code",
   "execution_count": null,
   "metadata": {},
   "outputs": [],
   "source": [
    "\n",
    "\n"
   ]
  }
 ],
 "metadata": {
  "kernelspec": {
   "display_name": "Python 3",
   "language": "python",
   "name": "python3"
  },
  "language_info": {
   "codemirror_mode": {
    "name": "ipython",
    "version": 3
   },
   "file_extension": ".py",
   "mimetype": "text/x-python",
   "name": "python",
   "nbconvert_exporter": "python",
   "pygments_lexer": "ipython3",
   "version": "3.5.2"
  }
 },
 "nbformat": 4,
 "nbformat_minor": 2
}
