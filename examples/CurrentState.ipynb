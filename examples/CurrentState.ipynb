{
 "cells": [
  {
   "cell_type": "markdown",
   "metadata": {},
   "source": [
    "# This is my example Jupyter notebook\n"
   ]
  },
  {
   "cell_type": "code",
   "execution_count": 1,
   "metadata": {},
   "outputs": [],
   "source": [
    "from ethereum_stats import levelDB, statedataset, blockrange\n",
    "from eth_utils import decode_hex\n",
    "import pandas as pd\n",
    "import numpy as np\n",
    "import logging\n",
    "import time\n",
    "%matplotlib inline\n",
    "import matplotlib.pyplot as plt\n",
    "\n",
    "TESTING_NETWORK = 'testing'\n",
    "CLIENT_NODE_DIR = '/home/ethereum/eth-private/private'\n",
    "# DB_DIR = CLIENT_NODE_DIR + '/' + TESTING_NETWORK + '/geth/chaindata'\n",
    "DB_DIR = '/home/ethereum/eth-rinkeby/datadir/geth/chaindata'\n",
    "LOGGING_LEVEL = logging.WARNING\n",
    "\n",
    "logging.basicConfig(level=LOGGING_LEVEL)\n",
    "\n",
    "\n",
    "db = levelDB.LevelDB(DB_DIR)\n"
   ]
  },
  {
   "cell_type": "code",
   "execution_count": null,
   "metadata": {
    "scrolled": false
   },
   "outputs": [],
   "source": [
    "start = time.time()\n",
    "last_block = blockrange.BlockHeader.get_latest_block_header(db)\n",
    "state = statedataset.StateDataset(db, decode_hex(last_block.state_root))\n",
    "df = state.to_panda_dataframe()\n",
    "end = time.time()\n",
    "print(end - start)"
   ]
  },
  {
   "cell_type": "code",
   "execution_count": null,
   "metadata": {},
   "outputs": [],
   "source": [
    "last_block.number"
   ]
  },
  {
   "cell_type": "code",
   "execution_count": null,
   "metadata": {},
   "outputs": [],
   "source": [
    "aBlk = blockrange.BlockHeader.get_block_header_by_number(db, 13574)\n"
   ]
  },
  {
   "cell_type": "code",
   "execution_count": 43,
   "metadata": {},
   "outputs": [
    {
     "data": {
      "text/plain": [
       "bytearray(b'\\x00\\x00\\x00\\x00\\x00\\x14\\xb6\\xa7')"
      ]
     },
     "execution_count": 43,
     "metadata": {},
     "output_type": "execute_result"
    }
   ],
   "source": [
    "a = db.db.Get(b'LastFast')\n",
    "db.db.Get(b'H'+a)"
   ]
  },
  {
   "cell_type": "code",
   "execution_count": 42,
   "metadata": {},
   "outputs": [
    {
     "data": {
      "text/plain": [
       "'0xab89d2dc81582e3e2272111ad65a0bd80fe059446ca22554240a4fcbae1e5a45'"
      ]
     },
     "execution_count": 42,
     "metadata": {},
     "output_type": "execute_result"
    }
   ],
   "source": [
    "aBlk.blk_hash"
   ]
  },
  {
   "cell_type": "code",
   "execution_count": 39,
   "metadata": {},
   "outputs": [
    {
     "name": "stdout",
     "output_type": "stream",
     "text": [
      "last_blk_nbr 1357479\n",
      "aBlk: 0x35c78b684ca1882dd20d4a6f9c4f2028fa7d249684d34bbe64db0e9d3cd7a118 lastBlk: 0xc419a261a082c21e8c0f31aa12fe31f2f3fb60978c8ec795ab53bc31c474dd7c\n",
      "lastBlk rootnode [b'\\x19B\\x8e\\xba\\xceL\\xc0>q\\x16\\x89\\xad\\x86\\xca\\xfd\\x8e\\xd5\\xa3\\xdd\\xe7hF\\x1f_M:*1\\xd2\\xa95\\x0e', b'\\x92.6\\xb3v\\x17\\xb7O\\xf8cO\\xe1\\xb5\\x1e-\\xd3\\x81;\\xbce\\xa3\\x1bJ\\xcf\\xb9Cm\\xcb\\x94S\\xc0\\\\', b\"\\x10\\x180\\x16\\xd8\\xe0\\xef\\xf8e\\xcb\\x95\\xeb{\\xe0\\x05w\\xd5\\x04\\xbb;\\x93\\xeeI\\t'\\xc9\\xdf\\x84?K.\\xc0\", b'\\xb8:,*\\xdbQ\\x03\\xbe6\\xe7\\xf4\\xb16\\xdd\\xb7d)\\x00\\n\\x12|\\x8a\\x8b\\xe8\\x82\\x8c\\x82=\\xe7\\xca\\xd3\\xb1', b'\\xefb\\xeb\\xe0\\x9cd|\\x10\\xe7\\x08Rv\\xc2Hl\\xaf\\xa5}\\xc0\\xac\\x9a\\xdd\\xd8Dz\\x11\\x8c\\x1f\\x80\\xa9L\\xf9', b'h\\xaa?MB\\x06y\\xf3q4j\\x85\\xa2Yf\\n\\xa7\\x94P\\xder\\xb4re\"2\\xe2\\xd7.j\\xd5\\xa9', b\"\\xaf/7$Z\\xbe\\xb5\\r;3\\x06~\\x9d'\\x82ICm/d[\\x05\\xc7\\xda,\\xe5b\\x03\\x03AY^\", b'G\\x98\\xce\\xec\\x811|\\xddq\\xfc\\xf7\\xd9\\x81\\x91s\\x016\\x1a\\x1eT\\xce\\x03\\x05+=\\xdb\\xc3y\\xe2\\xfd=\\x8b', b'\\x0b\\xf3\\x87i^\\x9d\\xefO\\x8d\\x0c{7Mlj.K\\x97\\xe5\\xc0\\x0e\\xba\\xb1@Mz\\xdf\\x18\\xb5?\\x9ck', b'E\\x95g,/\\xa8\\xf9z\\xbc\\xc2\\x9a\\x8cE\\xdf\\x1d\\xc35!\\xd27\\t\\x0eu\\x06\\xf9a\\xa2\\x81\\x14\\xf3XJ', b'xl\\x87Ee\\xfdV\\\\\\xf0\\x1f \\x07\\xd5P-1\\xff\\xc8_\\x18\\xe7)\\x7f\\x8e!H\\xb3x\\r\\xa6*\\xee', b'\\x80\\nS%\\\\\\x18\\x91\\x9e\\xa2\\xed\\x9d\\xfe\\xf2\\x8fk\\xfd\\xa9\\xc4U\\x9a`H\\x9d\\x9b\\x112\\x06_T\\x1c8\\xf8', b'P\\xbe\\xc7\\xe3\\x8ed\\xd9;u\\xe30q\\xc8\\xdb\\xe8\\xf2\\x83\\xaaPG:=g\\xe1\\xdd3\\xea\"\\xb2\\\\\\n\\x18', b'f\\x90\\x1a\\x9b\\xb4\\x11\\xef\\xe8\\x006U\\tl\\xafY\\xf4\\xef\\xc6\\xaa$\\x14\\x9c\\x15\\xa3\\xcb\\xa7\\n@\\xe7}\\xf3\\xa5', b'\\xf2\\x00Ds\\x8a}\\xf3\\xba\\xbf\\xfc\\xc6h\\x1a5B2y\\xcb\\xb1;<#c\\x15[\\xae\\x9aYNEW\\xac', b'\\xeb\\xc2\\xbfH\\xb5Di\\xd9A\\x14Hr\\xfarh*\\xfc7\\x14\\x1b+\\xfa\\r\\x16;_\\x9f&h\\xf7\\xbc\\x98', b'']\n",
      "aBlk rootnode [b'SC\\xff\\xfd\\xd1)\\xc7\\xb6%\\xc7\\xd2/G[\\x1c\\xa4\\xf5\\xcfA\\xdb}ZzHD\\x90\\x0c\\x86\\x99\\xc4\\x96\\x89', b'\\xd4\\xefW;W!\\xda\\xb4\\x8a]\\x91\\n\\xe2\\xb0\\xe5\\x0eB\\x8e\\xaf\\xac\\xa8h%i\\xa2\\xc2~\\xfe\\x8b\\xb4\\xb0\\x02', b'EWnb\\xd2\\xd6c\\x1dC\\x03U\\xef\\x87\\x89\\x90\\x12\\x0c\\x03\\xd0F\\xd8\\xea\\xc9\\xd6\\xcf\\xe0I\\xe6\\x81\\x18\\xd5\\xe5', b'\\xd4q\\xd9\\xe4xV7+iLO\\xa8\\xc8\\x89\\xd12\\xe9T\\x1b7\\xe1a\\x04\\xdd\\x88v\\xfa\\xd8}h\\xa6\\x04', b'\\xca3\\x9f{\\x91vm&\\xe7\\xd1\\xca\\xc0\\xaa0\\x17\\xdf\\x14\\x1b\\x9e\\xedh\\x95\\x1a\\xa7\\xde0\\xe8x\\x19/\\x04\\xc3', b'\\xbd\\xfcf\\xd6\\xb6\\x915g\\x1f|*\\xbe\\xd9\\x12\\x08\\xb2\\xa7\\xbe\\x80#X\\xf1\\xcd\\xb6\\xd4\\x15\\xcfUU;J\\xf6', b'\\x11z\\x97\\x1d/7\\x89m\\xc5\\xf6&\\x1c\\xbc\\xa4d\\xfd:y\\xcaQ\\x119\\xfc$\\x17k\\xb1H\\xf1)\\x00\\x86', b'\\xf3\\\\\\xd98\\xa3k\\x9a\\x7f\\xbd\\x19,\\xe3G\\xcf\\x92\\xe3\\x08[\\xdd\\r#\\nO\\x9a#\\x15B\\xa6\\x97\\x1c\\xd68', b'\\x8e-9bd\\r\\xaeS~\\xca\\xd3~\\x07\\x96B8\\xdd\\x81\\xf0}\\xa1F,S:\\xb9\\xe8\\xd9M>t\\t', b'\\xb0\\xd2[\\xf9x.\\x84\\x82dy\\xc0\\xbb\\xa4f\\x03\\xa2\\xd4\\x97\\xbc\\x9fO1\\xdf\\xfc\\xa7\\xed\\xc8\\xa9\\xe0\\xbe\\x89\\x8e', b'y\\x86\\x96\\x15\\xcfz\\xb6\\xaa\\x9frb\\xd91\\xa2\\xca\\x17\\xb7\\xb1h\\xda\\xe3\\xd7\\xaf%5\\x98\\xca\\x85g\\x8a\\xaa\\xf5', b'\\x9c8\\xaa\\x137\\x94\\xfe$\\x9f&R\\xea\\xba1-p\\nj\\xe9*\\xb2\\xdf\\x05\\xc5\\x06\\xd2\\xdf\\x1c\\xb6\\xd4\\x88\\x8a', b']\\xde\\x94\\x9f\\xfb\\xbdvt\\xadL`\\xfe\\'Xw\\xbe\\xbc!\\t\"B[\\xc2\\xeb\\xa4\\x8e\\xd5\\xa0(2z\\xe9', b'\\xd6\\x9f\\x91\\x1b\\x9aJ\\xd9Z\\x9a\\x12\\xdf\\xdf\\x05!\\x8a\\x9e\\xff7\\xaaW3=o\\xec\\x9f\\x8fW\\x94\\xd6\\xbf\\xe9A', b'\\x16\\x1cHY\\x9b69V\\xe3\\xd4\\xc8\\xd3\\xc6\\x9fp\\x8bj\\x98..\\x16{w:@;2&3!V\\x80', b'\\xc1\\xaf\\x00\\xc2\\x06\\xb7\\xc2\\xc3\\xc5A\\xe9Xl\\x81^\\xb9E\\x11\\xa7)\\xd6_#\\x9d\\xb0m\\x06\\x8d\\xf4\\x88\\xff\\x87', b'']\n"
     ]
    }
   ],
   "source": [
    "last_block = blockrange.BlockHeader.get_latest_block_header(db)\n",
    "print('last_blk_nbr', last_block.number)\n",
    "state = statedataset.StateDataset(db, decode_hex(last_block.state_root))\n",
    "aBlk = blockrange.BlockHeader.get_block_header_by_number(db, 1357162)\n",
    "print('aBlk:', aBlk.state_root, 'lastBlk:', last_block.state_root)\n",
    "assert state.trie.root_node is not None\n",
    "print('lastBlk rootnode', state.trie.root_node)\n",
    "try:\n",
    "    state3 = statedataset.StateDataset(db, decode_hex(aBlk.state_root))\n",
    "    assert state3.trie.root_node is not None\n",
    "except KeyError:\n",
    "    print('cant find state')\n",
    "# state3 = statedataset.StateDataset(db, decode_hex(aBlk.state_root))\n",
    "\n",
    "del state\n",
    "assert state3 is not None\n",
    "print('aBlk rootnode', state3.trie.root_node)\n",
    "del state3\n"
   ]
  },
  {
   "cell_type": "code",
   "execution_count": 19,
   "metadata": {},
   "outputs": [
    {
     "ename": "NameError",
     "evalue": "name 'df' is not defined",
     "traceback": [
      "\u001b[0;31m---------------------------------------------------------------------------\u001b[0m",
      "\u001b[0;31mNameError\u001b[0m                                 Traceback (most recent call last)",
      "\u001b[0;32m<ipython-input-19-3702848b761d>\u001b[0m in \u001b[0;36m<module>\u001b[0;34m()\u001b[0m\n\u001b[0;32m----> 1\u001b[0;31m \u001b[0mdf\u001b[0m\u001b[0;34m[\u001b[0m\u001b[0mdf\u001b[0m\u001b[0;34m.\u001b[0m\u001b[0mnonce\u001b[0m \u001b[0;34m>\u001b[0m \u001b[0;36m0\u001b[0m\u001b[0;34m]\u001b[0m\u001b[0;34m\u001b[0m\u001b[0m\n\u001b[0m",
      "\u001b[0;31mNameError\u001b[0m: name 'df' is not defined"
     ],
     "output_type": "error"
    }
   ],
   "source": [
    "df[df.nonce > 0]"
   ]
  },
  {
   "cell_type": "code",
   "execution_count": null,
   "metadata": {},
   "outputs": [],
   "source": [
    "len(state.trie)"
   ]
  },
  {
   "cell_type": "code",
   "execution_count": null,
   "metadata": {},
   "outputs": [],
   "source": [
    "plt.figure()\n",
    "\n",
    "df[df.nonce<20]['nonce'].plot.hist(bins=40)\n"
   ]
  },
  {
   "cell_type": "code",
   "execution_count": null,
   "metadata": {},
   "outputs": [],
   "source": [
    "df.describe()"
   ]
  },
  {
   "cell_type": "code",
   "execution_count": null,
   "metadata": {},
   "outputs": [],
   "source": [
    "pd.options.display.max_seq_items"
   ]
  },
  {
   "cell_type": "code",
   "execution_count": null,
   "metadata": {
    "scrolled": false
   },
   "outputs": [],
   "source": [
    "from IPython.core.display import display, HTML\n",
    "max_seq_items = pd.options.display.max_seq_items\n",
    "pd.options.display.max_seq_items = 1000\n",
    "display(HTML(df[df.key_in_db==True].to_html()))"
   ]
  },
  {
   "cell_type": "code",
   "execution_count": null,
   "metadata": {},
   "outputs": [],
   "source": [
    "pd.options.display.max_seq_items = max_seq_items"
   ]
  },
  {
   "cell_type": "code",
   "execution_count": null,
   "metadata": {},
   "outputs": [],
   "source": [
    "last_block"
   ]
  },
  {
   "cell_type": "code",
   "execution_count": null,
   "metadata": {},
   "outputs": [],
   "source": [
    "df.head()"
   ]
  },
  {
   "cell_type": "code",
   "execution_count": null,
   "metadata": {},
   "outputs": [],
   "source": [
    "print('a')"
   ]
  },
  {
   "cell_type": "code",
   "execution_count": null,
   "metadata": {},
   "outputs": [],
   "source": [
    "df.describe()"
   ]
  },
  {
   "cell_type": "code",
   "execution_count": null,
   "metadata": {},
   "outputs": [],
   "source": [
    "df[df.key_in_db==True].describe()"
   ]
  },
  {
   "cell_type": "code",
   "execution_count": null,
   "metadata": {},
   "outputs": [],
   "source": [
    "start = time.time()\n",
    "a = range(100000)\n",
    "b = []\n",
    "for i in a:\n",
    "    b.append(i*2)\n",
    "end = time.time()\n",
    "print(start, end, end - start)"
   ]
  },
  {
   "cell_type": "code",
   "execution_count": null,
   "metadata": {},
   "outputs": [],
   "source": [
    "time.time()"
   ]
  },
  {
   "cell_type": "code",
   "execution_count": 44,
   "metadata": {},
   "outputs": [
    {
     "data": {
      "text/plain": [
       "26"
      ]
     },
     "execution_count": 44,
     "metadata": {},
     "output_type": "execute_result"
    }
   ],
   "source": [
    "(26 + 27) // 2"
   ]
  },
  {
   "cell_type": "code",
   "execution_count": null,
   "metadata": {},
   "outputs": [],
   "source": []
  }
 ],
 "metadata": {
  "kernelspec": {
   "display_name": "Python 3",
   "language": "python",
   "name": "python3"
  },
  "language_info": {
   "codemirror_mode": {
    "name": "ipython",
    "version": 3
   },
   "file_extension": ".py",
   "mimetype": "text/x-python",
   "name": "python",
   "nbconvert_exporter": "python",
   "pygments_lexer": "ipython3",
   "version": "3.5.2"
  }
 },
 "nbformat": 4,
 "nbformat_minor": 1
}
