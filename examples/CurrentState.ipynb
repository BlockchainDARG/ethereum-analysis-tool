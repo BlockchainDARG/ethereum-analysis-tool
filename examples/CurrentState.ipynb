{
 "cells": [
  {
   "cell_type": "markdown",
   "metadata": {},
   "source": [
    "# Example of usage in Jupyter notebook\n"
   ]
  },
  {
   "cell_type": "markdown",
   "metadata": {},
   "source": [
    "## Usual imports for pandas/numpy/matplotlib"
   ]
  },
  {
   "cell_type": "code",
   "execution_count": 1,
   "metadata": {},
   "outputs": [],
   "source": [
    "import pandas as pd\n",
    "import numpy as np\n",
    "import matplotlib.pyplot as plt\n",
    "%matplotlib inline"
   ]
  },
  {
   "cell_type": "markdown",
   "metadata": {},
   "source": [
    "## Imports and environment set up for API"
   ]
  },
  {
   "cell_type": "code",
   "execution_count": 2,
   "metadata": {},
   "outputs": [
    {
     "ename": "LevelDBError",
     "evalue": "IO error: lock /home/ethereum/eth-private/private/testing/geth/chaindata/LOCK: Resource temporarily unavailable",
     "traceback": [
      "\u001b[0;31m---------------------------------------------------------------------------\u001b[0m",
      "\u001b[0;31mLevelDBError\u001b[0m                              Traceback (most recent call last)",
      "\u001b[0;32m<ipython-input-2-225ac526697a>\u001b[0m in \u001b[0;36m<module>\u001b[0;34m()\u001b[0m\n\u001b[1;32m      8\u001b[0m \u001b[0;34m\u001b[0m\u001b[0m\n\u001b[1;32m      9\u001b[0m \u001b[0mDB_DIR\u001b[0m \u001b[0;34m=\u001b[0m \u001b[0;34m'/home/ethereum/eth-private/private/testing/geth/chaindata'\u001b[0m\u001b[0;34m\u001b[0m\u001b[0m\n\u001b[0;32m---> 10\u001b[0;31m \u001b[0mdb\u001b[0m \u001b[0;34m=\u001b[0m \u001b[0mlevelDB\u001b[0m\u001b[0;34m.\u001b[0m\u001b[0mLevelDB\u001b[0m\u001b[0;34m(\u001b[0m\u001b[0mDB_DIR\u001b[0m\u001b[0;34m)\u001b[0m\u001b[0;34m\u001b[0m\u001b[0m\n\u001b[0m",
      "\u001b[0;32m/home/ethereum/PycharmProjects/ethereum-analysis-tool/ethereum_stats/levelDB.py\u001b[0m in \u001b[0;36m__init__\u001b[0;34m(self, dbfile)\u001b[0m\n\u001b[1;32m     10\u001b[0m         \u001b[0mself\u001b[0m\u001b[0;34m.\u001b[0m\u001b[0muncommitted\u001b[0m \u001b[0;34m=\u001b[0m \u001b[0mdict\u001b[0m\u001b[0;34m(\u001b[0m\u001b[0;34m)\u001b[0m\u001b[0;34m\u001b[0m\u001b[0m\n\u001b[1;32m     11\u001b[0m         \u001b[0mself\u001b[0m\u001b[0;34m.\u001b[0m\u001b[0mdbfile\u001b[0m \u001b[0;34m=\u001b[0m \u001b[0mdbfile\u001b[0m\u001b[0;34m\u001b[0m\u001b[0m\n\u001b[0;32m---> 12\u001b[0;31m         \u001b[0mself\u001b[0m\u001b[0;34m.\u001b[0m\u001b[0mdb\u001b[0m \u001b[0;34m=\u001b[0m \u001b[0mleveldb\u001b[0m\u001b[0;34m.\u001b[0m\u001b[0mLevelDB\u001b[0m\u001b[0;34m(\u001b[0m\u001b[0mdbfile\u001b[0m\u001b[0;34m,\u001b[0m \u001b[0mmax_open_files\u001b[0m\u001b[0;34m=\u001b[0m\u001b[0mself\u001b[0m\u001b[0;34m.\u001b[0m\u001b[0mmax_open_files\u001b[0m\u001b[0;34m)\u001b[0m\u001b[0;34m\u001b[0m\u001b[0m\n\u001b[0m\u001b[1;32m     13\u001b[0m \u001b[0;34m\u001b[0m\u001b[0m\n\u001b[1;32m     14\u001b[0m     \u001b[0;32mdef\u001b[0m \u001b[0mreopen\u001b[0m\u001b[0;34m(\u001b[0m\u001b[0mself\u001b[0m\u001b[0;34m)\u001b[0m\u001b[0;34m:\u001b[0m\u001b[0;34m\u001b[0m\u001b[0m\n",
      "\u001b[0;31mLevelDBError\u001b[0m: IO error: lock /home/ethereum/eth-private/private/testing/geth/chaindata/LOCK: Resource temporarily unavailable"
     ],
     "output_type": "error"
    }
   ],
   "source": [
    "from ethereum_stats import levelDB, statedataset, blockrange\n",
    "from eth_utils import decode_hex\n",
    "import logging\n",
    "import time\n",
    "\n",
    "LOGGING_LEVEL = logging.WARNING\n",
    "logging.basicConfig(level=LOGGING_LEVEL)\n",
    "\n",
    "DB_DIR = '/home/ethereum/eth-private/private/testing/geth/chaindata'\n",
    "db = levelDB.LevelDB(DB_DIR)"
   ]
  },
  {
   "cell_type": "code",
   "execution_count": null,
   "metadata": {
    "scrolled": false
   },
   "outputs": [],
   "source": [
    "start = time.time()\n",
    "last_block = blockrange.BlockHeader.get_latest_block_header(db)\n",
    "state = statedataset.StateDataset(db, decode_hex(last_block.state_root))\n",
    "df = state.to_panda_dataframe()\n",
    "end = time.time()\n",
    "print(end - start)"
   ]
  },
  {
   "cell_type": "code",
   "execution_count": null,
   "metadata": {},
   "outputs": [],
   "source": [
    "last_block.number"
   ]
  },
  {
   "cell_type": "code",
   "execution_count": null,
   "metadata": {},
   "outputs": [],
   "source": [
    "aBlk = blockrange.BlockHeader.get_block_header_by_number(db, 13574)\n"
   ]
  },
  {
   "cell_type": "code",
   "execution_count": null,
   "metadata": {},
   "outputs": [],
   "source": [
    "a = db.db.Get(b'LastFast')\n",
    "db.db.Get(b'H'+a)"
   ]
  },
  {
   "cell_type": "code",
   "execution_count": null,
   "metadata": {},
   "outputs": [],
   "source": [
    "aBlk.blk_hash"
   ]
  },
  {
   "cell_type": "code",
   "execution_count": null,
   "metadata": {},
   "outputs": [],
   "source": [
    "last_block = blockrange.BlockHeader.get_latest_block_header(db)\n",
    "print('last_blk_nbr', last_block.number)\n",
    "state = statedataset.StateDataset(db, decode_hex(last_block.state_root))\n",
    "aBlk = blockrange.BlockHeader.get_block_header_by_number(db, 1357162)\n",
    "print('aBlk:', aBlk.state_root, 'lastBlk:', last_block.state_root)\n",
    "assert state.trie.root_node is not None\n",
    "print('lastBlk rootnode', state.trie.root_node)\n",
    "try:\n",
    "    state3 = statedataset.StateDataset(db, decode_hex(aBlk.state_root))\n",
    "    assert state3.trie.root_node is not None\n",
    "except KeyError:\n",
    "    print('cant find state')\n",
    "# state3 = statedataset.StateDataset(db, decode_hex(aBlk.state_root))\n",
    "\n",
    "del state\n",
    "assert state3 is not None\n",
    "print('aBlk rootnode', state3.trie.root_node)\n",
    "del state3\n"
   ]
  },
  {
   "cell_type": "code",
   "execution_count": null,
   "metadata": {},
   "outputs": [],
   "source": [
    "df[df.nonce > 0]"
   ]
  },
  {
   "cell_type": "code",
   "execution_count": null,
   "metadata": {},
   "outputs": [],
   "source": [
    "len(state.trie)"
   ]
  },
  {
   "cell_type": "code",
   "execution_count": null,
   "metadata": {},
   "outputs": [],
   "source": [
    "plt.figure()\n",
    "\n",
    "df[df.nonce<20]['nonce'].plot.hist(bins=40)\n"
   ]
  },
  {
   "cell_type": "code",
   "execution_count": null,
   "metadata": {},
   "outputs": [],
   "source": [
    "df.describe()"
   ]
  },
  {
   "cell_type": "code",
   "execution_count": null,
   "metadata": {},
   "outputs": [],
   "source": [
    "pd.options.display.max_seq_items"
   ]
  },
  {
   "cell_type": "code",
   "execution_count": null,
   "metadata": {
    "scrolled": false
   },
   "outputs": [],
   "source": [
    "from IPython.core.display import display, HTML\n",
    "max_seq_items = pd.options.display.max_seq_items\n",
    "pd.options.display.max_seq_items = 1000\n",
    "display(HTML(df[df.key_in_db==True].to_html()))"
   ]
  },
  {
   "cell_type": "code",
   "execution_count": null,
   "metadata": {},
   "outputs": [],
   "source": [
    "pd.options.display.max_seq_items = max_seq_items"
   ]
  },
  {
   "cell_type": "code",
   "execution_count": null,
   "metadata": {},
   "outputs": [],
   "source": [
    "last_block"
   ]
  },
  {
   "cell_type": "code",
   "execution_count": null,
   "metadata": {},
   "outputs": [],
   "source": [
    "df.head()"
   ]
  },
  {
   "cell_type": "code",
   "execution_count": null,
   "metadata": {},
   "outputs": [],
   "source": [
    "print('a')"
   ]
  },
  {
   "cell_type": "code",
   "execution_count": null,
   "metadata": {},
   "outputs": [],
   "source": [
    "df.describe()"
   ]
  },
  {
   "cell_type": "code",
   "execution_count": null,
   "metadata": {},
   "outputs": [],
   "source": [
    "df[df.key_in_db==True].describe()"
   ]
  },
  {
   "cell_type": "code",
   "execution_count": null,
   "metadata": {},
   "outputs": [],
   "source": [
    "start = time.time()\n",
    "a = range(100000)\n",
    "b = []\n",
    "for i in a:\n",
    "    b.append(i*2)\n",
    "end = time.time()\n",
    "print(start, end, end - start)"
   ]
  },
  {
   "cell_type": "code",
   "execution_count": null,
   "metadata": {},
   "outputs": [],
   "source": [
    "time.time()"
   ]
  },
  {
   "cell_type": "code",
   "execution_count": null,
   "metadata": {},
   "outputs": [],
   "source": [
    "(26 + 27) // 2"
   ]
  },
  {
   "cell_type": "code",
   "execution_count": null,
   "metadata": {},
   "outputs": [],
   "source": []
  }
 ],
 "metadata": {
  "kernelspec": {
   "display_name": "Python 3",
   "language": "python",
   "name": "python3"
  },
  "language_info": {
   "codemirror_mode": {
    "name": "ipython",
    "version": 3
   },
   "file_extension": ".py",
   "mimetype": "text/x-python",
   "name": "python",
   "nbconvert_exporter": "python",
   "pygments_lexer": "ipython3",
   "version": "3.5.2"
  }
 },
 "nbformat": 4,
 "nbformat_minor": 1
}
